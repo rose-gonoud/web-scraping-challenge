{
 "cells": [
  {
   "cell_type": "code",
   "execution_count": 26,
   "metadata": {},
   "outputs": [],
   "source": [
    "# Dependencies\n",
    "from bs4 import BeautifulSoup as bs\n",
    "import pandas as pd\n",
    "from splinter import Browser\n",
    "import requests\n",
    "import time\n",
    "import pymongo\n",
    "# from selenium import webdriver\n",
    "# from selenium.webdriver.common.keys import Keys"
   ]
  },
  {
   "cell_type": "code",
   "execution_count": 29,
   "metadata": {},
   "outputs": [
    {
     "data": {
      "text/plain": [
       "'NASA chose a seventh-grader from Virginia as winner of the agency s \"Name the Rover\" essay contest. Alexander Mather s entry for \"Perseverance\" was voted tops among 28,000 entries.'"
      ]
     },
     "execution_count": 29,
     "metadata": {},
     "output_type": "execute_result"
    }
   ],
   "source": [
    "nasa_mars_news=\"https://mars.nasa.gov/news/?page=0&per_page=40&order=publish_date+desc%2Ccreated_at+desc&search=&category=19%2C165%2C184%2C204&blank_scope=Latest\"\n",
    "\n",
    "response = requests.get(nasa_mars_news)\n",
    "\n",
    "# Create BeautifulSoup object; parse with 'html.parser'\n",
    "soup1 = bs(response.text, 'html.parser')\n",
    "\n",
    "news_title = soup1.find(class_=\"content_title\").a.text.replace(\"\\'\", \" \").replace(\"'\", ' ').strip()\n",
    "news_title\n",
    "\n",
    "news_p = soup1.find(class_=\"rollover_description_inner\").text.replace(\"\\'\", \" \").replace(\"'\", ' ').strip()\n",
    "news_p"
   ]
  },
  {
   "cell_type": "code",
   "execution_count": 30,
   "metadata": {},
   "outputs": [],
   "source": [
    "# this tells python to control chrome\n",
    "executable_path = {'executable_path': '/usr/local/bin/chromedriver'}\n",
    "browser = Browser('chrome', **executable_path, headless=False)"
   ]
  },
  {
   "cell_type": "code",
   "execution_count": 31,
   "metadata": {},
   "outputs": [],
   "source": [
    "url = 'https://www.jpl.nasa.gov/spaceimages/?search=&category=Mars'\n",
    "browser.visit(url)"
   ]
  },
  {
   "cell_type": "code",
   "execution_count": 32,
   "metadata": {},
   "outputs": [],
   "source": [
    "html = browser.html\n",
    "# Parse HTML with Beautiful Soup\n",
    "soup2 = bs(html, 'html.parser')\n",
    "\n",
    "browser.links.find_by_partial_text('FULL').click()"
   ]
  },
  {
   "cell_type": "code",
   "execution_count": 33,
   "metadata": {},
   "outputs": [],
   "source": [
    "time.sleep(4)\n",
    "\n",
    "browser.links.find_by_partial_href('spaceimages/details').click()"
   ]
  },
  {
   "cell_type": "code",
   "execution_count": 34,
   "metadata": {},
   "outputs": [],
   "source": [
    "new_html = browser.html\n",
    "soup3 = bs(new_html, \"html.parser\")\n",
    "# print(soup3.prettify())"
   ]
  },
  {
   "cell_type": "code",
   "execution_count": 35,
   "metadata": {},
   "outputs": [],
   "source": [
    "img_tag = soup3.find('figure', class_='lede').a\n",
    "    \n",
    "featured_image_url = f\"https://www.jpl.nasa.gov{img_tag['href']}\"\n",
    "# print(featured_image_url)"
   ]
  },
  {
   "cell_type": "code",
   "execution_count": 36,
   "metadata": {},
   "outputs": [],
   "source": [
    "# Comments in this block and next from a selenium solution for filtering weather-only tweets and selecting one:\n",
    "# I was told my selector was invalid or illegal, I'm guessing the second one. Might have worked otherwise.\n",
    "# Source:\n",
    "# (https://medium.com/analytics-vidhya/create-your-own-twitter-dataset-with-this-simple-python-scraper-710bf7c5dc04)\n",
    "\n",
    "# browser=webdriver.Chrome()\n",
    "\n",
    "twitter_url=\"https://twitter.com/marswxreport?lang=en\"\n",
    "browser.visit(twitter_url)"
   ]
  },
  {
   "cell_type": "code",
   "execution_count": 41,
   "metadata": {},
   "outputs": [
    {
     "data": {
      "text/plain": [
       "\"Mars Weather RetweetedTony Rice@rtphokie·14hWhile the Smithsonian is closed  we can peruse the National @airandspace Museum's online collection   Here's one of my favorites: https://airandspace.si.edu/collections/14\""
      ]
     },
     "execution_count": 41,
     "metadata": {},
     "output_type": "execute_result"
    }
   ],
   "source": [
    "time.sleep(4)\n",
    "\n",
    "html = browser.html\n",
    "soup4 = bs(html, 'html.parser')\n",
    "# retrieval of generic tag\n",
    "mars_weather=soup4.find(\"article\").text.replace('\\n', ' ').replace(',', ' ').strip()\n",
    "\n",
    "# mars_weather=[]\n",
    "# for result in browser.find_elements_by_class_name(\"^css-1dbjc4n\"):\n",
    "#     try:\n",
    "#         text = browser.find_by_partial_text(\"InSight sol\")\n",
    "        \n",
    "#         if text:\n",
    "#             mars_weather.append(text)\n",
    "            \n",
    "#         else: print(\"if nope!\")\n",
    "            \n",
    "#     except: print(\"try nope!\")\n",
    "\n",
    "mars_weather"
   ]
  },
  {
   "cell_type": "code",
   "execution_count": 11,
   "metadata": {},
   "outputs": [
    {
     "data": {
      "text/html": [
       "<div>\n",
       "<style scoped>\n",
       "    .dataframe tbody tr th:only-of-type {\n",
       "        vertical-align: middle;\n",
       "    }\n",
       "\n",
       "    .dataframe tbody tr th {\n",
       "        vertical-align: top;\n",
       "    }\n",
       "\n",
       "    .dataframe thead th {\n",
       "        text-align: right;\n",
       "    }\n",
       "</style>\n",
       "<table border=\"1\" class=\"dataframe\">\n",
       "  <thead>\n",
       "    <tr style=\"text-align: right;\">\n",
       "      <th></th>\n",
       "      <th>Description</th>\n",
       "      <th>Value</th>\n",
       "    </tr>\n",
       "  </thead>\n",
       "  <tbody>\n",
       "    <tr>\n",
       "      <th>0</th>\n",
       "      <td>Equatorial Diameter:</td>\n",
       "      <td>6,792 km</td>\n",
       "    </tr>\n",
       "    <tr>\n",
       "      <th>1</th>\n",
       "      <td>Polar Diameter:</td>\n",
       "      <td>6,752 km</td>\n",
       "    </tr>\n",
       "    <tr>\n",
       "      <th>2</th>\n",
       "      <td>Mass:</td>\n",
       "      <td>6.39 × 10^23 kg (0.11 Earths)</td>\n",
       "    </tr>\n",
       "    <tr>\n",
       "      <th>3</th>\n",
       "      <td>Moons:</td>\n",
       "      <td>2 (Phobos &amp; Deimos)</td>\n",
       "    </tr>\n",
       "    <tr>\n",
       "      <th>4</th>\n",
       "      <td>Orbit Distance:</td>\n",
       "      <td>227,943,824 km (1.38 AU)</td>\n",
       "    </tr>\n",
       "    <tr>\n",
       "      <th>5</th>\n",
       "      <td>Orbit Period:</td>\n",
       "      <td>687 days (1.9 years)</td>\n",
       "    </tr>\n",
       "    <tr>\n",
       "      <th>6</th>\n",
       "      <td>Surface Temperature:</td>\n",
       "      <td>-87 to -5 °C</td>\n",
       "    </tr>\n",
       "    <tr>\n",
       "      <th>7</th>\n",
       "      <td>First Record:</td>\n",
       "      <td>2nd millennium BC</td>\n",
       "    </tr>\n",
       "    <tr>\n",
       "      <th>8</th>\n",
       "      <td>Recorded By:</td>\n",
       "      <td>Egyptian astronomers</td>\n",
       "    </tr>\n",
       "  </tbody>\n",
       "</table>\n",
       "</div>"
      ],
      "text/plain": [
       "            Description                          Value\n",
       "0  Equatorial Diameter:                       6,792 km\n",
       "1       Polar Diameter:                       6,752 km\n",
       "2                 Mass:  6.39 × 10^23 kg (0.11 Earths)\n",
       "3                Moons:            2 (Phobos & Deimos)\n",
       "4       Orbit Distance:       227,943,824 km (1.38 AU)\n",
       "5         Orbit Period:           687 days (1.9 years)\n",
       "6  Surface Temperature:                   -87 to -5 °C\n",
       "7         First Record:              2nd millennium BC\n",
       "8          Recorded By:           Egyptian astronomers"
      ]
     },
     "execution_count": 11,
     "metadata": {},
     "output_type": "execute_result"
    }
   ],
   "source": [
    "facts_url=\"https://space-facts.com/mars/\"\n",
    "mars_facts = pd.read_html(facts_url)\n",
    "mars_facts = mars_facts[0]\n",
    "mars_facts = mars_facts.rename(columns={0: \"Description\", 1: \"Value\"})\n",
    "mars_facts"
   ]
  },
  {
   "cell_type": "code",
   "execution_count": 12,
   "metadata": {},
   "outputs": [
    {
     "data": {
      "text/plain": [
       "{'Equatorial Diameter:': '6,792 km',\n",
       " 'Polar Diameter:': '6,752 km',\n",
       " 'Mass:': '6.39 × 10^23 kg (0.11 Earths)',\n",
       " 'Moons:': '2 (Phobos & Deimos)',\n",
       " 'Orbit Distance:': '227,943,824 km (1.38 AU)',\n",
       " 'Orbit Period:': '687 days (1.9 years)',\n",
       " 'Surface Temperature:': '-87 to -5 °C',\n",
       " 'First Record:': '2nd millennium BC',\n",
       " 'Recorded By:': 'Egyptian astronomers'}"
      ]
     },
     "execution_count": 12,
     "metadata": {},
     "output_type": "execute_result"
    }
   ],
   "source": [
    "mars_facts_dict = mars_facts.set_index('Description')['Value'].to_dict()\n",
    "mars_facts_dict"
   ]
  },
  {
   "cell_type": "code",
   "execution_count": 13,
   "metadata": {},
   "outputs": [],
   "source": [
    "hemispheres_url='https://astrogeology.usgs.gov/search/results?q=hemisphere+enhanced&k1=target&v1=Mars'\n",
    "browser.visit(hemispheres_url)"
   ]
  },
  {
   "cell_type": "code",
   "execution_count": 14,
   "metadata": {},
   "outputs": [],
   "source": [
    "new_html=browser.html\n",
    "soup5 = bs(new_html, \"html.parser\")\n",
    "# print(soup5.prettify())"
   ]
  },
  {
   "cell_type": "code",
   "execution_count": 15,
   "metadata": {},
   "outputs": [
    {
     "name": "stdout",
     "output_type": "stream",
     "text": [
      "['Cerberus Hemisphere Enhanced', 'Schiaparelli Hemisphere Enhanced', 'Syrtis Major Hemisphere Enhanced', 'Valles Marineris Hemisphere Enhanced']\n",
      "['Cerberus', 'Schiaparelli', 'Syrtis', 'Valles']\n",
      "['cerberus', 'schiaparelli', 'syrtis', 'valles']\n",
      "['http://astropedia.astrogeology.usgs.gov/download/Mars/Viking/cerberus_enhanced.tif/full.jpg', 'http://astropedia.astrogeology.usgs.gov/download/Mars/Viking/schiaparelli_enhanced.tif/full.jpg', 'http://astropedia.astrogeology.usgs.gov/download/Mars/Viking/syrtis_major_enhanced.tif/full.jpg', 'http://astropedia.astrogeology.usgs.gov/download/Mars/Viking/valles_marineris_enhanced.tif/full.jpg']\n"
     ]
    }
   ],
   "source": [
    "# Retrieve the parent divs containing all hemisphere photos\n",
    "results = soup5.find_all('div', class_='item')\n",
    "\n",
    "headers = []\n",
    "for result in results:\n",
    "    # scrape the hemisphere photo titles\n",
    "    title = result.find('h3').text\n",
    "    headers.append(title)\n",
    "print(headers)\n",
    "    \n",
    "hemispheres = []\n",
    "for header in headers:\n",
    "    hemi_name = header.split(' ')[0]\n",
    "    hemispheres.append(hemi_name)\n",
    "print(hemispheres)\n",
    "    \n",
    "def first_lower(s):\n",
    "   if len(s) == 0:\n",
    "      return s\n",
    "   else:\n",
    "      return s[0].lower() + s[1:]\n",
    "\n",
    "url_hemi_names = []\n",
    "for hemisphere in hemispheres:\n",
    "    lowercased = first_lower(hemisphere)\n",
    "    url_hemi_names.append(lowercased)\n",
    "print(url_hemi_names)\n",
    "\n",
    "img_urls=[]\n",
    "for name in url_hemi_names:\n",
    "    browser.visit(hemispheres_url)\n",
    "    current = browser.links.find_by_partial_href(f'Viking/{name}')['href']\n",
    "    soup = browser.visit(current)\n",
    "\n",
    "    url = browser.find_by_text('Sample')['href']\n",
    "    img_urls.append(url)\n",
    "    \n",
    "print(img_urls)"
   ]
  },
  {
   "cell_type": "code",
   "execution_count": 16,
   "metadata": {},
   "outputs": [
    {
     "data": {
      "text/plain": [
       "[{'title': 'Cerberus Hemisphere Enhanced',\n",
       "  'img_url': 'http://astropedia.astrogeology.usgs.gov/download/Mars/Viking/cerberus_enhanced.tif/full.jpg'},\n",
       " {'title': 'Schiaparelli Hemisphere Enhanced',\n",
       "  'img_url': 'http://astropedia.astrogeology.usgs.gov/download/Mars/Viking/schiaparelli_enhanced.tif/full.jpg'},\n",
       " {'title': 'Syrtis Major Hemisphere Enhanced',\n",
       "  'img_url': 'http://astropedia.astrogeology.usgs.gov/download/Mars/Viking/syrtis_major_enhanced.tif/full.jpg'},\n",
       " {'title': 'Valles Marineris Hemisphere Enhanced',\n",
       "  'img_url': 'http://astropedia.astrogeology.usgs.gov/download/Mars/Viking/valles_marineris_enhanced.tif/full.jpg'}]"
      ]
     },
     "execution_count": 16,
     "metadata": {},
     "output_type": "execute_result"
    }
   ],
   "source": [
    "hemisphere_image_urls = [\n",
    "    {\"title\": headers[0], \"img_url\": img_urls[0]},\n",
    "    {\"title\": headers[1], \"img_url\": img_urls[1]},\n",
    "    {\"title\": headers[2], \"img_url\": img_urls[2]},\n",
    "    {\"title\": headers[3], \"img_url\": img_urls[3]},   \n",
    "]\n",
    "hemisphere_image_urls"
   ]
  },
  {
   "cell_type": "code",
   "execution_count": 17,
   "metadata": {},
   "outputs": [
    {
     "data": {
      "text/plain": [
       "{'news_title': \"Virginia Middle School Student Earns Honor of Naming NASA's Next Mars Rover\",\n",
       " 'news_p': 'NASA chose a seventh-grader from Virginia as winner of the agency\\'s \"Name the Rover\" essay contest. Alexander Mather\\'s entry for \"Perseverance\" was voted tops among 28,000 entries.',\n",
       " 'featured_image_url': 'https://www.jpl.nasa.gov/spaceimages/images/largesize/PIA18840_hires.jpg',\n",
       " 'mars_weather': 'Mars Weather@MarsWxReport·Mar 10InSight sol 457 (2020-03-10) low -95.7ºC (-140.3ºF) high -9.1ºC (15.6ºF)\\nwinds from the SSE at 6.5 m/s (14.5 mph) gusting to 21.0 m/s (46.9 mph)\\npressure at 6.30 hPa1624',\n",
       " 'mars_facts': {'Equatorial Diameter:': '6,792 km',\n",
       "  'Polar Diameter:': '6,752 km',\n",
       "  'Mass:': '6.39 × 10^23 kg (0.11 Earths)',\n",
       "  'Moons:': '2 (Phobos & Deimos)',\n",
       "  'Orbit Distance:': '227,943,824 km (1.38 AU)',\n",
       "  'Orbit Period:': '687 days (1.9 years)',\n",
       "  'Surface Temperature:': '-87 to -5 °C',\n",
       "  'First Record:': '2nd millennium BC',\n",
       "  'Recorded By:': 'Egyptian astronomers'},\n",
       " 'hemisphere_info': [{'title': 'Cerberus Hemisphere Enhanced',\n",
       "   'img_url': 'http://astropedia.astrogeology.usgs.gov/download/Mars/Viking/cerberus_enhanced.tif/full.jpg'},\n",
       "  {'title': 'Schiaparelli Hemisphere Enhanced',\n",
       "   'img_url': 'http://astropedia.astrogeology.usgs.gov/download/Mars/Viking/schiaparelli_enhanced.tif/full.jpg'},\n",
       "  {'title': 'Syrtis Major Hemisphere Enhanced',\n",
       "   'img_url': 'http://astropedia.astrogeology.usgs.gov/download/Mars/Viking/syrtis_major_enhanced.tif/full.jpg'},\n",
       "  {'title': 'Valles Marineris Hemisphere Enhanced',\n",
       "   'img_url': 'http://astropedia.astrogeology.usgs.gov/download/Mars/Viking/valles_marineris_enhanced.tif/full.jpg'}]}"
      ]
     },
     "execution_count": 17,
     "metadata": {},
     "output_type": "execute_result"
    }
   ],
   "source": [
    "master_dict = {\n",
    "    \"collection_timestamp\":time.time(),\n",
    "    \"news_title\":news_title,\n",
    "    \"news_p\":news_p,\n",
    "    \"featured_image_url\":featured_image_url,\n",
    "    \"mars_weather\":mars_weather,\n",
    "    \"mars_facts\":mars_facts_dict,\n",
    "    \"hemisphere_info\":hemisphere_image_urls\n",
    "}\n",
    "master_dict"
   ]
  },
  {
   "cell_type": "code",
   "execution_count": 18,
   "metadata": {},
   "outputs": [],
   "source": [
    "# Initialize PyMongo to work with MongoDBs\n",
    "conn = 'mongodb://localhost:27017'\n",
    "client = pymongo.MongoClient(conn)"
   ]
  },
  {
   "cell_type": "code",
   "execution_count": 19,
   "metadata": {},
   "outputs": [],
   "source": [
    "# Define database and collection\n",
    "db = client.mars_db\n",
    "collection = db.mars_master_info"
   ]
  },
  {
   "cell_type": "code",
   "execution_count": 20,
   "metadata": {},
   "outputs": [
    {
     "data": {
      "text/plain": [
       "<pymongo.results.InsertOneResult at 0x11a0af820>"
      ]
     },
     "execution_count": 20,
     "metadata": {},
     "output_type": "execute_result"
    }
   ],
   "source": [
    "# Inserting currently scraped data into the mars_master_info collection\n",
    "collection.insert_one(master_dict)"
   ]
  },
  {
   "cell_type": "code",
   "execution_count": 36,
   "metadata": {},
   "outputs": [
    {
     "name": "stdout",
     "output_type": "stream",
     "text": [
      "{'_id': ObjectId('5e6c1300ec66cf891554016b'), 'collection_timestamp': 1584141056.2174249, 'news_title': \"Virginia Middle School Student Earns Honor of Naming NASA's Next Mars Rover\", 'news_p': 'NASA chose a seventh-grader from Virginia as winner of the agency\\'s \"Name the Rover\" essay contest. Alexander Mather\\'s entry for \"Perseverance\" was voted tops among 28,000 entries.', 'featured_image_url': 'https://www.jpl.nasa.gov/spaceimages/images/largesize/PIA18249_hires.jpg', 'mars_weather': 'Mars Weather RetweetedNASA InSight@NASAInSight·6hA bit of good news from #Mars: our new approach of using the robotic arm to push the mole appears to be working! The teams @NASAJPL/@DLR_en are excited to see the images and plan to continue this approach over the next few weeks.  #SaveTheMole  \\n\\nFAQ: http://go.nasa.gov/HP3FAQ0:10206.5K views1116544.4K', 'mars_facts': {'Equatorial Diameter:': '6,792 km', 'Polar Diameter:': '6,752 km', 'Mass:': '6.39 × 10^23 kg (0.11 Earths)', 'Moons:': '2 (Phobos & Deimos)', 'Orbit Distance:': '227,943,824 km (1.38 AU)', 'Orbit Period:': '687 days (1.9 years)', 'Surface Temperature:': '-87 to -5 °C', 'First Record:': '2nd millennium BC', 'Recorded By:': 'Egyptian astronomers'}, 'hemisphere_info': [{'title': 'Cerberus Hemisphere Enhanced', 'img_url': 'http://astropedia.astrogeology.usgs.gov/download/Mars/Viking/cerberus_enhanced.tif/full.jpg'}, {'title': 'Schiaparelli Hemisphere Enhanced', 'img_url': 'http://astropedia.astrogeology.usgs.gov/download/Mars/Viking/schiaparelli_enhanced.tif/full.jpg'}, {'title': 'Syrtis Major Hemisphere Enhanced', 'img_url': 'http://astropedia.astrogeology.usgs.gov/download/Mars/Viking/syrtis_major_enhanced.tif/full.jpg'}, {'title': 'Valles Marineris Hemisphere Enhanced', 'img_url': 'http://astropedia.astrogeology.usgs.gov/download/Mars/Viking/valles_marineris_enhanced.tif/full.jpg'}]}\n"
     ]
    }
   ],
   "source": [
    "# Display items in MongoDB collection\n",
    "current_mars = db.mars_master_info.find()\n",
    "\n",
    "for i in current_mars:\n",
    "        print(i)\n",
    "        \n",
    "# and it printed the contents of the master dictionary! yay!"
   ]
  },
  {
   "cell_type": "code",
   "execution_count": null,
   "metadata": {},
   "outputs": [],
   "source": []
  }
 ],
 "metadata": {
  "kernelspec": {
   "display_name": "Python 3.7.5 64-bit ('PythonDataUpdate2': conda)",
   "language": "python",
   "name": "python37564bitpythondataupdate2condaa497fd42be2140be8553fda70837b473"
  },
  "language_info": {
   "codemirror_mode": {
    "name": "ipython",
    "version": 3
   },
   "file_extension": ".py",
   "mimetype": "text/x-python",
   "name": "python",
   "nbconvert_exporter": "python",
   "pygments_lexer": "ipython3",
   "version": "3.7.5"
  }
 },
 "nbformat": 4,
 "nbformat_minor": 4
}
